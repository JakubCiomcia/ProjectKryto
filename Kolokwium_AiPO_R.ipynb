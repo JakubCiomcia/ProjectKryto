{
  "nbformat": 4,
  "nbformat_minor": 0,
  "metadata": {
    "colab": {
      "provenance": [],
      "gpuType": "T4"
    },
    "kernelspec": {
      "name": "python3",
      "display_name": "Python 3 (ipykernel)",
      "language": "python"
    },
    "language_info": {
      "name": "python"
    }
  },
  "cells": [
    {
      "cell_type": "markdown",
      "source": [
        "#Gradient i podstawowa manipulacja obrazem"
      ],
      "metadata": {
        "id": "fP_FiCip_SbV"
      }
    },
    {
      "cell_type": "code",
      "metadata": {
        "id": "lurz0zVqLIea",
        "ExecuteTime": {
          "end_time": "2025-01-28T13:48:51.247132Z",
          "start_time": "2025-01-28T13:48:50.994812Z"
        },
        "colab": {
          "base_uri": "https://localhost:8080/",
          "height": 839
        },
        "outputId": "79082786-e7f5-4b32-ab53-1642d3c831c7"
      },
      "source": [
        "# ZADANIE 1. (1pkt):\n",
        "\n",
        "# Uzupełnij funkcję, aby zwracała obraz będący rezultatem konwolucji obrazu\n",
        "# img (będącym obrazem w skali szarości) z następującym filtrem:\n",
        "\n",
        "# | -1  0  1 |\n",
        "# | -4  0  4 |\n",
        "# | -1  0  1 |\n",
        "\n",
        "import numpy as np\n",
        "from skimage import io\n",
        "import cv2\n",
        "from matplotlib import pyplot as plt\n",
        "\n",
        "img_color = io.imread('https://i.postimg.cc/mksNZfXc/BoQS.png')\n",
        "img_gray = cv2.cvtColor(img_color, cv2.COLOR_RGB2GRAY)\n",
        "\n",
        "# ROZWIĄZANIE:\n",
        "\n",
        "def filtert(img):\n",
        "    kernel = np.array([\n",
        "        [-1,0,1],\n",
        "        [-4,0,4],\n",
        "        [-1,0,1]])\n",
        "\n",
        "    filter_img = cv2.filter2D(img, -1, kernel)\n",
        "\n",
        "    return filter_img\n",
        "\n",
        "plt.imshow(img_gray)\n",
        "plt.axis('off')  # Turn off axes for better visualization\n",
        "plt.title('original grey Image')\n",
        "plt.show()\n",
        "\n",
        "img = filtert(img_gray)\n",
        "# Display the result using matplotlib\n",
        "plt.imshow(img)\n",
        "plt.axis('off')  # Turn off axes for better visualization\n",
        "plt.title('Filtered Image')\n",
        "plt.show()"
      ],
      "outputs": [
        {
          "output_type": "display_data",
          "data": {
            "text/plain": [
              "<Figure size 640x480 with 1 Axes>"
            ],
            "image/png": "[encoded data removed]"
          },
          "metadata": {}
        },
        {
          "output_type": "display_data",
          "data": {
            "text/plain": [
              "<Figure size 640x480 with 1 Axes>"
            ],
            "image/png": "[encoded data removed]"
          },
          "metadata": {}
        }
      ],
      "execution_count": 64
    },
    {
      "cell_type": "code",
      "source": [
        "# ZADANIE 2. (1 pkt):\n",
        "\n",
        "# Napisz funkcję, która przyjmuje obraz kolorowy img i zwraca piksel będący uśrednienienm\n",
        "# 4 pikseli z każdego narożnika obrazu:\n",
        "\n",
        "from matplotlib import pyplot as plt\n",
        "from skimage import io\n",
        "import cv2\n",
        "import math\n",
        "import numpy as np\n",
        "\n",
        "img_color = io.imread('https://i.postimg.cc/mksNZfXc/BoQS.png')\n",
        "\n",
        "\n",
        "# ROZWIĄZANIE:\n",
        "\n",
        "def get_corners_avg_px(img_color):\n",
        "    height, width, _ = img_color.shape\n",
        "    top_left = img_color[0, 0, :]\n",
        "    top_right = img_color[0, width-1, :]\n",
        "    bottom_left = img_color[height-1, 0, :]\n",
        "    bottom_right = img_color[height-1, width-1, :]\n",
        "\n",
        "    avg_pixel = np.mean([top_left, top_right, bottom_left, bottom_right], axis=0)\n",
        "\n",
        "    return avg_pixel\n",
        "\n",
        "# Testowanie funkcji\n",
        "avg_pixel = get_corners_avg_px(img_color)\n",
        "print(avg_pixel)\n",
        "\n",
        "# TEST (dla poprawnego rozwiązania asercje powinny przechodzić):\n",
        "assert type(get_corners_avg_px(img_color)) == np.ndarray\n",
        "assert get_corners_avg_px(img_color).shape[0] > 1\n",
        "assert math.isclose(get_corners_avg_px(img_color)[0], 192, rel_tol=1, abs_tol=0.0)"
      ],
      "metadata": {
        "id": "r5r32WlyEUNV",
        "colab": {
          "base_uri": "https://localhost:8080/"
        },
        "outputId": "4658abd5-d9c7-4a64-8f7d-d77118c0c5f1"
      },
      "execution_count": 58,
      "outputs": [
        {
          "output_type": "stream",
          "name": "stdout",
          "text": [
            "[192.25 217.   141.75 255.  ]\n"
          ]
        }
      ]
    },
    {
      "cell_type": "markdown",
      "source": [
        "#Detektor Harrisa"
      ],
      "metadata": {
        "id": "mYx00STJ_gbZ"
      }
    },
    {
      "cell_type": "code",
      "source": [
        "# ZADANIE 3. (1pkt):\n",
        "import matplotlib.pyplot as plt\n",
        "# Dokonaj na poniższym obrazie detekcji narożników detektorem Harrisa i wyświetl wynik na obrazie.\n",
        "# Możesz korzystać z dokumentacji openCV (https://docs.opencv.org/4.x/dc/d0d/tutorial_py_features_harris.html)\n",
        "\n",
        "img_color = io.imread('https://i.postimg.cc/mksNZfXc/BoQS.png')\n",
        "img_color = cv2.cvtColor(img_color, cv2.COLOR_RGBA2RGB)\n",
        "img_gray = cv2.cvtColor(img_color, cv2.COLOR_RGB2GRAY)\n",
        "\n",
        "import cv2 as cv\n",
        "\n",
        "gray = np.float32(img_gray)\n",
        "dst = cv.cornerHarris(img_gray,2,3,0.04)\n",
        "\n",
        "#result is dilated for marking the corners, not important\n",
        "dst = cv.dilate(dst,None)\n",
        "\n",
        "# Threshold for an optimal value, it may vary depending on the image.\n",
        "img_color[dst>0.01*dst.max()]=[0,0,255]\n",
        "\n",
        "plt.imshow(img_color)\n",
        "plt.axis('off')  # Turn off axes for better visualization\n",
        "plt.title('Harris Corner Detection')\n",
        "plt.show()"
      ],
      "metadata": {
        "id": "Lih89Tvx_iUj",
        "jupyter": {
          "is_executing": true
        },
        "ExecuteTime": {
          "start_time": "2025-01-28T14:05:54.813945Z"
        },
        "colab": {
          "base_uri": "https://localhost:8080/",
          "height": 428
        },
        "outputId": "bb0c5ab8-a13a-4d2d-f13c-7939733b982d"
      },
      "outputs": [
        {
          "output_type": "display_data",
          "data": {
            "text/plain": [
              "<Figure size 640x480 with 1 Axes>"
            ],
            "image/png": "[encoded data removed]"
          },
          "metadata": {}
        }
      ],
      "execution_count": 31
    },
    {
      "cell_type": "code",
      "source": [
        "# ZADANIE 3b. (1pkt):\n",
        "\n",
        "# Skopiuj tutaj kod rozwiązania zadania 3. i zmodyfikuj go tak, aby wyświetlić punktów\n",
        "# charakterystycznych niż w zadaniu 3.\n",
        "\n",
        "\n",
        "\n",
        "import matplotlib.pyplot as plt\n",
        "# Dokonaj na poniższym obrazie detekcji narożników detektorem Harrisa i wyświetl wynik na obrazie.\n",
        "# Możesz korzystać z dokumentacji openCV (https://docs.opencv.org/4.x/dc/d0d/tutorial_py_features_harris.html)\n",
        "\n",
        "img_color = io.imread('https://i.postimg.cc/mksNZfXc/BoQS.png')\n",
        "img_color = cv2.cvtColor(img_color, cv2.COLOR_RGBA2RGB)\n",
        "img_gray = cv2.cvtColor(img_color, cv2.COLOR_RGB2GRAY)\n",
        "\n",
        "import cv2 as cv\n",
        "\n",
        "gray = np.float32(img_gray)\n",
        "dst = cv.cornerHarris(img_gray,2,3,0.04)\n",
        "\n",
        "#result is dilated for marking the corners, not important\n",
        "dst = cv.dilate(dst,None)\n",
        "\n",
        "# Threshold for an optimal value, it may vary depending on the image.\n",
        "img_color[dst>0.1*dst.max()]=[0,0,0]\n",
        "#mniej img_color[dst>0.1*dst.max()]=[0,0,0]\n",
        "#wiecej img_color[dst>0.001*dst.max()]=[0,0,0]\n",
        "\n",
        "plt.imshow(img_color)\n",
        "plt.axis('off')  # Turn off axes for better visualization\n",
        "plt.title('Harris Corner Detection')\n",
        "plt.show()\n"
      ],
      "metadata": {
        "id": "evY4RRF1JoR3",
        "colab": {
          "base_uri": "https://localhost:8080/",
          "height": 428
        },
        "outputId": "eebab634-1212-44b7-d15d-daac98607667"
      },
      "execution_count": 47,
      "outputs": [
        {
          "output_type": "display_data",
          "data": {
            "text/plain": [
              "<Figure size 640x480 with 1 Axes>"
            ],
            "image/png": "[encoded data removed]"
          },
          "metadata": {}
        }
      ]
    },
    {
      "cell_type": "markdown",
      "source": [
        "#Sieci fully-connected i pytorch"
      ],
      "metadata": {
        "id": "bO2Q-mR1AhxL"
      }
    },
    {
      "cell_type": "code",
      "source": [
        "#### KOD INICJALIZUJACY BIBLIOTEKI I DANE, TYLKO URUCHOM  ####\n",
        "\n",
        "!pip install torchsummary\n",
        "\n",
        "import torch\n",
        "from torch import nn\n",
        "from torch.utils.data import DataLoader\n",
        "from torchvision import datasets\n",
        "from torchvision.transforms import ToTensor\n",
        "from torchvision.transforms import functional as F\n",
        "\n",
        "import numpy as np\n",
        "import numpy\n",
        "from torchsummary import summary\n",
        "\n",
        "training_data = datasets.CIFAR10(root=\"data\",train=True,download=True,transform=ToTensor(),)\n",
        "test_data = datasets.CIFAR10(root=\"data\",train=False, download=True, transform=ToTensor(),)\n",
        "\n",
        "batch_size = 64\n",
        "\n",
        "train_dataloader = DataLoader(training_data, batch_size=batch_size)\n",
        "test_dataloader = DataLoader(test_data, batch_size=batch_size)\n",
        "\n",
        "for X, y in test_dataloader:\n",
        "    print(f\"Shape of X [N, C, H, W]: {X.shape}\")\n",
        "    print(f\"Shape of y: {y.shape} {y.dtype}\")\n",
        "    break\n",
        "\n",
        "for X, y in train_dataloader:\n",
        "    print(f\"Shape of X [N, C, H, W]: {X.shape}\")\n",
        "    print(f\"Shape of y: {y.shape} {y.dtype}\")\n",
        "    break\n",
        "\n",
        "#### KONIEC KODU INICJALIZUJACEGO BIBLIOTEKI I DANE ####"
      ],
      "metadata": {
        "id": "sSiYk-f2BQrB",
        "colab": {
          "base_uri": "https://localhost:8080/"
        },
        "outputId": "eccbb917-ecd8-41c3-e143-ca3412e9f70e"
      },
      "execution_count": 48,
      "outputs": [
        {
          "output_type": "stream",
          "name": "stdout",
          "text": [
            "Requirement already satisfied: torchsummary in /usr/local/lib/python3.11/dist-packages (1.5.1)\n",
            "Downloading https://www.cs.toronto.edu/~kriz/cifar-10-python.tar.gz to data/cifar-10-python.tar.gz\n"
          ]
        },
        {
          "output_type": "stream",
          "name": "stderr",
          "text": [
            "100%|██████████| 170M/170M [00:02<00:00, 77.2MB/s]\n"
          ]
        },
        {
          "output_type": "stream",
          "name": "stdout",
          "text": [
            "Extracting data/cifar-10-python.tar.gz to data\n",
            "Files already downloaded and verified\n",
            "Shape of X [N, C, H, W]: torch.Size([64, 3, 32, 32])\n",
            "Shape of y: torch.Size([64]) torch.int64\n",
            "Shape of X [N, C, H, W]: torch.Size([64, 3, 32, 32])\n",
            "Shape of y: torch.Size([64]) torch.int64\n"
          ]
        }
      ]
    },
    {
      "cell_type": "code",
      "source": [
        "# ZADANIE 4. (1pkt):\n",
        "\n",
        "# Uzupełnij definicję klasy NeuralNetwork tak, aby uzyskać sieć fully-connected z:\n",
        "#    warstwą wejściową: 3072 wejścia, 512 wyjść,\n",
        "#    warstwą ukrytą: 512 wejść, 512 wyjść,\n",
        "#    warstwą wyjściową: 512 wejść, 10 wyjść\n",
        "#    funkcjami aktywacji ReLU\n",
        "\n",
        "device = \"cuda\" if torch.cuda.is_available() else \"cpu\"\n",
        "print(f\"Using {device} device\")\n",
        "\n",
        "\n",
        "class NeuralNetwork(nn.Module):\n",
        "    def __init__(self):\n",
        "        super().__init__()\n",
        "        self.flatten = nn.Flatten()\n",
        "        self.linear_relu_stack = nn.Sequential(\n",
        "\n",
        "            ### Twój kod tutaj ####\n",
        "            # nn.Linear(3072, 1), # przykładowa wartstwa, tu napisz rozwiązanie!\n",
        "\n",
        "            nn.Linear(3072, 512), # warstwa wejsciowa\n",
        "            nn.ReLU(),               # funkcja aktywacji warstwy wejsciowej\n",
        "            nn.Linear(512, 512),     # warstwa ukryta\n",
        "            nn.ReLU(),               # funkcja aktywacji warstwy ukrytej\n",
        "            nn.Linear(512, 10)       # warstwa wyjściowa, 10 neuronow bo 10 klas\n",
        "        )\n",
        "\n",
        "    def forward(self, x):\n",
        "        x = self.flatten(x)\n",
        "        logits = self.linear_relu_stack(x)\n",
        "        return logits\n",
        "\n",
        "model = NeuralNetwork().to(device)\n",
        "summary(model, (3, 32, 32))\n",
        "\n",
        "loss_fn = nn.CrossEntropyLoss()\n",
        "optimizer = torch.optim.SGD(model.parameters(), lr=1e-3)"
      ],
      "metadata": {
        "id": "y_OMfLAzAkWG",
        "colab": {
          "base_uri": "https://localhost:8080/"
        },
        "outputId": "4f48693f-b6c8-49af-892a-4253affb35b8"
      },
      "execution_count": 50,
      "outputs": [
        {
          "output_type": "stream",
          "name": "stdout",
          "text": [
            "Using cpu device\n",
            "----------------------------------------------------------------\n",
            "        Layer (type)               Output Shape         Param #\n",
            "================================================================\n",
            "           Flatten-1                 [-1, 3072]               0\n",
            "            Linear-2                  [-1, 512]       1,573,376\n",
            "              ReLU-3                  [-1, 512]               0\n",
            "            Linear-4                  [-1, 512]         262,656\n",
            "              ReLU-5                  [-1, 512]               0\n",
            "            Linear-6                   [-1, 10]           5,130\n",
            "================================================================\n",
            "Total params: 1,841,162\n",
            "Trainable params: 1,841,162\n",
            "Non-trainable params: 0\n",
            "----------------------------------------------------------------\n",
            "Input size (MB): 0.01\n",
            "Forward/backward pass size (MB): 0.04\n",
            "Params size (MB): 7.02\n",
            "Estimated Total Size (MB): 7.07\n",
            "----------------------------------------------------------------\n"
          ]
        }
      ]
    },
    {
      "cell_type": "code",
      "source": [
        "# ZADANIE 5. (1 pkt):\n",
        "\n",
        "# W poniższej funkcji służącej do uczenia modelu jest błąd, który powoduje, że\n",
        "# model się nie uczy, a dokładność klasyfikacji nie rośnie (możesz to zaobserwować uruchamiając\n",
        "# komórki niżej, z definicją funkcji test i pętlą uczenia)\n",
        "\n",
        "# popraw funkcję train tak, aby model uczył się poprawnie\n",
        "\n",
        "def train(dataloader, model, loss_fn, optimizer):\n",
        "    size = len(dataloader.dataset)\n",
        "    model.train()\n",
        "    for batch, (X, y) in enumerate(dataloader):\n",
        "        X, y = X.to(device), y.to(device)\n",
        "\n",
        "        # Compute prediction error\n",
        "        pred = model(X)\n",
        "        loss = loss_fn(pred, y)\n",
        "\n",
        "        # Backpropagation\n",
        "        optimizer.zero_grad()\n",
        "        loss.backward()\n",
        "        optimizer.step()\n",
        "\n",
        "        if batch % 100 == 0:\n",
        "            loss, current = loss.item(), batch * len(X)\n",
        "            print(f\"loss: {loss:>7f}  [{current:>5d}/{size:>5d}]\")"
      ],
      "metadata": {
        "id": "TKM5vDZcBK4Z"
      },
      "execution_count": 51,
      "outputs": []
    },
    {
      "cell_type": "code",
      "source": [
        "def test(dataloader, model, loss_fn):\n",
        "    size = len(dataloader.dataset)\n",
        "    num_batches = len(dataloader)\n",
        "    model.eval()\n",
        "    test_loss, correct = 0, 0\n",
        "    with torch.no_grad():\n",
        "        for X, y in dataloader:\n",
        "            X, y = X.to(device), y.to(device)\n",
        "            pred = model(X)\n",
        "            test_loss += loss_fn(pred, y).item()\n",
        "            correct += (pred.argmax(1) == y).type(torch.float).sum().item()\n",
        "    test_loss /= num_batches\n",
        "    correct /= size\n",
        "    print(f\"Test Error: \\n Accuracy: {(100*correct):>0.1f}%, Avg loss: {test_loss:>8f} \\n\")"
      ],
      "metadata": {
        "id": "pUob3wQhFEdn"
      },
      "execution_count": 52,
      "outputs": []
    },
    {
      "cell_type": "code",
      "source": [
        "epochs = 100\n",
        "for t in range(epochs):\n",
        "    print(f\"Epoch {t+1}\\n-------------------------------\")\n",
        "    train(train_dataloader, model, loss_fn, optimizer)\n",
        "    test(test_dataloader, model, loss_fn)\n",
        "print(\"Done!\")"
      ],
      "metadata": {
        "id": "j7Bem2WOFG_n",
        "colab": {
          "base_uri": "https://localhost:8080/",
          "height": 1000
        },
        "outputId": "d6544098-adce-4805-e2fd-b383d342e0e6"
      },
      "execution_count": 53,
      "outputs": [
        {
          "output_type": "stream",
          "name": "stdout",
          "text": [
            "Epoch 1\n",
            "-------------------------------\n",
            "loss: 2.304094  [    0/50000]\n",
            "loss: 2.298949  [ 6400/50000]\n",
            "loss: 2.291102  [12800/50000]\n",
            "loss: 2.285710  [19200/50000]\n",
            "loss: 2.276222  [25600/50000]\n",
            "loss: 2.271917  [32000/50000]\n",
            "loss: 2.276299  [38400/50000]\n",
            "loss: 2.282306  [44800/50000]\n",
            "Test Error: \n",
            " Accuracy: 13.1%, Avg loss: 2.268686 \n",
            "\n",
            "Epoch 2\n",
            "-------------------------------\n",
            "loss: 2.287441  [    0/50000]\n",
            "loss: 2.274681  [ 6400/50000]\n",
            "loss: 2.249156  [12800/50000]\n",
            "loss: 2.267595  [19200/50000]\n",
            "loss: 2.240103  [25600/50000]\n",
            "loss: 2.239501  [32000/50000]\n",
            "loss: 2.248502  [38400/50000]\n",
            "loss: 2.246897  [44800/50000]\n",
            "Test Error: \n",
            " Accuracy: 20.3%, Avg loss: 2.232813 \n",
            "\n",
            "Epoch 3\n",
            "-------------------------------\n",
            "loss: 2.263317  [    0/50000]\n",
            "loss: 2.240905  [ 6400/50000]\n",
            "loss: 2.196822  [12800/50000]\n",
            "loss: 2.237706  [19200/50000]\n",
            "loss: 2.194078  [25600/50000]\n",
            "loss: 2.193348  [32000/50000]\n",
            "loss: 2.215576  [38400/50000]\n",
            "loss: 2.194162  [44800/50000]\n",
            "Test Error: \n",
            " Accuracy: 23.6%, Avg loss: 2.182208 \n",
            "\n",
            "Epoch 4\n",
            "-------------------------------\n",
            "loss: 2.227481  [    0/50000]\n",
            "loss: 2.193602  [ 6400/50000]\n",
            "loss: 2.124527  [12800/50000]\n",
            "loss: 2.196193  [19200/50000]\n",
            "loss: 2.135479  [25600/50000]\n",
            "loss: 2.135663  [32000/50000]\n",
            "loss: 2.185164  [38400/50000]\n",
            "loss: 2.128676  [44800/50000]\n",
            "Test Error: \n",
            " Accuracy: 25.3%, Avg loss: 2.124662 \n",
            "\n",
            "Epoch 5\n",
            "-------------------------------\n",
            "loss: 2.185117  [    0/50000]\n",
            "loss: 2.143271  [ 6400/50000]\n",
            "loss: 2.045845  [12800/50000]\n",
            "loss: 2.151102  [19200/50000]\n"
          ]
        },
        {
          "output_type": "error",
          "ename": "KeyboardInterrupt",
          "evalue": "",
          "traceback": [
            "\u001b[0;31m---------------------------------------------------------------------------\u001b[0m",
            "\u001b[0;31mKeyboardInterrupt\u001b[0m                         Traceback (most recent call last)",
            "\u001b[0;32m<ipython-input-53-c95c2cbff4d3>\u001b[0m in \u001b[0;36m<cell line: 0>\u001b[0;34m()\u001b[0m\n\u001b[1;32m      2\u001b[0m \u001b[0;32mfor\u001b[0m \u001b[0mt\u001b[0m \u001b[0;32min\u001b[0m \u001b[0mrange\u001b[0m\u001b[0;34m(\u001b[0m\u001b[0mepochs\u001b[0m\u001b[0;34m)\u001b[0m\u001b[0;34m:\u001b[0m\u001b[0;34m\u001b[0m\u001b[0;34m\u001b[0m\u001b[0m\n\u001b[1;32m      3\u001b[0m     \u001b[0mprint\u001b[0m\u001b[0;34m(\u001b[0m\u001b[0;34mf\"Epoch {t+1}\\n-------------------------------\"\u001b[0m\u001b[0;34m)\u001b[0m\u001b[0;34m\u001b[0m\u001b[0;34m\u001b[0m\u001b[0m\n\u001b[0;32m----> 4\u001b[0;31m     \u001b[0mtrain\u001b[0m\u001b[0;34m(\u001b[0m\u001b[0mtrain_dataloader\u001b[0m\u001b[0;34m,\u001b[0m \u001b[0mmodel\u001b[0m\u001b[0;34m,\u001b[0m \u001b[0mloss_fn\u001b[0m\u001b[0;34m,\u001b[0m \u001b[0moptimizer\u001b[0m\u001b[0;34m)\u001b[0m\u001b[0;34m\u001b[0m\u001b[0;34m\u001b[0m\u001b[0m\n\u001b[0m\u001b[1;32m      5\u001b[0m     \u001b[0mtest\u001b[0m\u001b[0;34m(\u001b[0m\u001b[0mtest_dataloader\u001b[0m\u001b[0;34m,\u001b[0m \u001b[0mmodel\u001b[0m\u001b[0;34m,\u001b[0m \u001b[0mloss_fn\u001b[0m\u001b[0;34m)\u001b[0m\u001b[0;34m\u001b[0m\u001b[0;34m\u001b[0m\u001b[0m\n\u001b[1;32m      6\u001b[0m \u001b[0mprint\u001b[0m\u001b[0;34m(\u001b[0m\u001b[0;34m\"Done!\"\u001b[0m\u001b[0;34m)\u001b[0m\u001b[0;34m\u001b[0m\u001b[0;34m\u001b[0m\u001b[0m\n",
            "\u001b[0;32m<ipython-input-51-4b979c702700>\u001b[0m in \u001b[0;36mtrain\u001b[0;34m(dataloader, model, loss_fn, optimizer)\u001b[0m\n\u001b[1;32m     10\u001b[0m     \u001b[0msize\u001b[0m \u001b[0;34m=\u001b[0m \u001b[0mlen\u001b[0m\u001b[0;34m(\u001b[0m\u001b[0mdataloader\u001b[0m\u001b[0;34m.\u001b[0m\u001b[0mdataset\u001b[0m\u001b[0;34m)\u001b[0m\u001b[0;34m\u001b[0m\u001b[0;34m\u001b[0m\u001b[0m\n\u001b[1;32m     11\u001b[0m     \u001b[0mmodel\u001b[0m\u001b[0;34m.\u001b[0m\u001b[0mtrain\u001b[0m\u001b[0;34m(\u001b[0m\u001b[0;34m)\u001b[0m\u001b[0;34m\u001b[0m\u001b[0;34m\u001b[0m\u001b[0m\n\u001b[0;32m---> 12\u001b[0;31m     \u001b[0;32mfor\u001b[0m \u001b[0mbatch\u001b[0m\u001b[0;34m,\u001b[0m \u001b[0;34m(\u001b[0m\u001b[0mX\u001b[0m\u001b[0;34m,\u001b[0m \u001b[0my\u001b[0m\u001b[0;34m)\u001b[0m \u001b[0;32min\u001b[0m \u001b[0menumerate\u001b[0m\u001b[0;34m(\u001b[0m\u001b[0mdataloader\u001b[0m\u001b[0;34m)\u001b[0m\u001b[0;34m:\u001b[0m\u001b[0;34m\u001b[0m\u001b[0;34m\u001b[0m\u001b[0m\n\u001b[0m\u001b[1;32m     13\u001b[0m         \u001b[0mX\u001b[0m\u001b[0;34m,\u001b[0m \u001b[0my\u001b[0m \u001b[0;34m=\u001b[0m \u001b[0mX\u001b[0m\u001b[0;34m.\u001b[0m\u001b[0mto\u001b[0m\u001b[0;34m(\u001b[0m\u001b[0mdevice\u001b[0m\u001b[0;34m)\u001b[0m\u001b[0;34m,\u001b[0m \u001b[0my\u001b[0m\u001b[0;34m.\u001b[0m\u001b[0mto\u001b[0m\u001b[0;34m(\u001b[0m\u001b[0mdevice\u001b[0m\u001b[0;34m)\u001b[0m\u001b[0;34m\u001b[0m\u001b[0;34m\u001b[0m\u001b[0m\n\u001b[1;32m     14\u001b[0m \u001b[0;34m\u001b[0m\u001b[0m\n",
            "\u001b[0;32m/usr/local/lib/python3.11/dist-packages/torch/utils/data/dataloader.py\u001b[0m in \u001b[0;36m__next__\u001b[0;34m(self)\u001b[0m\n\u001b[1;32m    699\u001b[0m                 \u001b[0;31m# TODO(https://github.com/pytorch/pytorch/issues/76750)\u001b[0m\u001b[0;34m\u001b[0m\u001b[0;34m\u001b[0m\u001b[0m\n\u001b[1;32m    700\u001b[0m                 \u001b[0mself\u001b[0m\u001b[0;34m.\u001b[0m\u001b[0m_reset\u001b[0m\u001b[0;34m(\u001b[0m\u001b[0;34m)\u001b[0m  \u001b[0;31m# type: ignore[call-arg]\u001b[0m\u001b[0;34m\u001b[0m\u001b[0;34m\u001b[0m\u001b[0m\n\u001b[0;32m--> 701\u001b[0;31m             \u001b[0mdata\u001b[0m \u001b[0;34m=\u001b[0m \u001b[0mself\u001b[0m\u001b[0;34m.\u001b[0m\u001b[0m_next_data\u001b[0m\u001b[0;34m(\u001b[0m\u001b[0;34m)\u001b[0m\u001b[0;34m\u001b[0m\u001b[0;34m\u001b[0m\u001b[0m\n\u001b[0m\u001b[1;32m    702\u001b[0m             \u001b[0mself\u001b[0m\u001b[0;34m.\u001b[0m\u001b[0m_num_yielded\u001b[0m \u001b[0;34m+=\u001b[0m \u001b[0;36m1\u001b[0m\u001b[0;34m\u001b[0m\u001b[0;34m\u001b[0m\u001b[0m\n\u001b[1;32m    703\u001b[0m             if (\n",
            "\u001b[0;32m/usr/local/lib/python3.11/dist-packages/torch/utils/data/dataloader.py\u001b[0m in \u001b[0;36m_next_data\u001b[0;34m(self)\u001b[0m\n\u001b[1;32m    755\u001b[0m     \u001b[0;32mdef\u001b[0m \u001b[0m_next_data\u001b[0m\u001b[0;34m(\u001b[0m\u001b[0mself\u001b[0m\u001b[0;34m)\u001b[0m\u001b[0;34m:\u001b[0m\u001b[0;34m\u001b[0m\u001b[0;34m\u001b[0m\u001b[0m\n\u001b[1;32m    756\u001b[0m         \u001b[0mindex\u001b[0m \u001b[0;34m=\u001b[0m \u001b[0mself\u001b[0m\u001b[0;34m.\u001b[0m\u001b[0m_next_index\u001b[0m\u001b[0;34m(\u001b[0m\u001b[0;34m)\u001b[0m  \u001b[0;31m# may raise StopIteration\u001b[0m\u001b[0;34m\u001b[0m\u001b[0;34m\u001b[0m\u001b[0m\n\u001b[0;32m--> 757\u001b[0;31m         \u001b[0mdata\u001b[0m \u001b[0;34m=\u001b[0m \u001b[0mself\u001b[0m\u001b[0;34m.\u001b[0m\u001b[0m_dataset_fetcher\u001b[0m\u001b[0;34m.\u001b[0m\u001b[0mfetch\u001b[0m\u001b[0;34m(\u001b[0m\u001b[0mindex\u001b[0m\u001b[0;34m)\u001b[0m  \u001b[0;31m# may raise StopIteration\u001b[0m\u001b[0;34m\u001b[0m\u001b[0;34m\u001b[0m\u001b[0m\n\u001b[0m\u001b[1;32m    758\u001b[0m         \u001b[0;32mif\u001b[0m \u001b[0mself\u001b[0m\u001b[0;34m.\u001b[0m\u001b[0m_pin_memory\u001b[0m\u001b[0;34m:\u001b[0m\u001b[0;34m\u001b[0m\u001b[0;34m\u001b[0m\u001b[0m\n\u001b[1;32m    759\u001b[0m             \u001b[0mdata\u001b[0m \u001b[0;34m=\u001b[0m \u001b[0m_utils\u001b[0m\u001b[0;34m.\u001b[0m\u001b[0mpin_memory\u001b[0m\u001b[0;34m.\u001b[0m\u001b[0mpin_memory\u001b[0m\u001b[0;34m(\u001b[0m\u001b[0mdata\u001b[0m\u001b[0;34m,\u001b[0m \u001b[0mself\u001b[0m\u001b[0;34m.\u001b[0m\u001b[0m_pin_memory_device\u001b[0m\u001b[0;34m)\u001b[0m\u001b[0;34m\u001b[0m\u001b[0;34m\u001b[0m\u001b[0m\n",
            "\u001b[0;32m/usr/local/lib/python3.11/dist-packages/torch/utils/data/_utils/fetch.py\u001b[0m in \u001b[0;36mfetch\u001b[0;34m(self, possibly_batched_index)\u001b[0m\n\u001b[1;32m     50\u001b[0m                 \u001b[0mdata\u001b[0m \u001b[0;34m=\u001b[0m \u001b[0mself\u001b[0m\u001b[0;34m.\u001b[0m\u001b[0mdataset\u001b[0m\u001b[0;34m.\u001b[0m\u001b[0m__getitems__\u001b[0m\u001b[0;34m(\u001b[0m\u001b[0mpossibly_batched_index\u001b[0m\u001b[0;34m)\u001b[0m\u001b[0;34m\u001b[0m\u001b[0;34m\u001b[0m\u001b[0m\n\u001b[1;32m     51\u001b[0m             \u001b[0;32melse\u001b[0m\u001b[0;34m:\u001b[0m\u001b[0;34m\u001b[0m\u001b[0;34m\u001b[0m\u001b[0m\n\u001b[0;32m---> 52\u001b[0;31m                 \u001b[0mdata\u001b[0m \u001b[0;34m=\u001b[0m \u001b[0;34m[\u001b[0m\u001b[0mself\u001b[0m\u001b[0;34m.\u001b[0m\u001b[0mdataset\u001b[0m\u001b[0;34m[\u001b[0m\u001b[0midx\u001b[0m\u001b[0;34m]\u001b[0m \u001b[0;32mfor\u001b[0m \u001b[0midx\u001b[0m \u001b[0;32min\u001b[0m \u001b[0mpossibly_batched_index\u001b[0m\u001b[0;34m]\u001b[0m\u001b[0;34m\u001b[0m\u001b[0;34m\u001b[0m\u001b[0m\n\u001b[0m\u001b[1;32m     53\u001b[0m         \u001b[0;32melse\u001b[0m\u001b[0;34m:\u001b[0m\u001b[0;34m\u001b[0m\u001b[0;34m\u001b[0m\u001b[0m\n\u001b[1;32m     54\u001b[0m             \u001b[0mdata\u001b[0m \u001b[0;34m=\u001b[0m \u001b[0mself\u001b[0m\u001b[0;34m.\u001b[0m\u001b[0mdataset\u001b[0m\u001b[0;34m[\u001b[0m\u001b[0mpossibly_batched_index\u001b[0m\u001b[0;34m]\u001b[0m\u001b[0;34m\u001b[0m\u001b[0;34m\u001b[0m\u001b[0m\n",
            "\u001b[0;32m/usr/local/lib/python3.11/dist-packages/torch/utils/data/_utils/fetch.py\u001b[0m in \u001b[0;36m<listcomp>\u001b[0;34m(.0)\u001b[0m\n\u001b[1;32m     50\u001b[0m                 \u001b[0mdata\u001b[0m \u001b[0;34m=\u001b[0m \u001b[0mself\u001b[0m\u001b[0;34m.\u001b[0m\u001b[0mdataset\u001b[0m\u001b[0;34m.\u001b[0m\u001b[0m__getitems__\u001b[0m\u001b[0;34m(\u001b[0m\u001b[0mpossibly_batched_index\u001b[0m\u001b[0;34m)\u001b[0m\u001b[0;34m\u001b[0m\u001b[0;34m\u001b[0m\u001b[0m\n\u001b[1;32m     51\u001b[0m             \u001b[0;32melse\u001b[0m\u001b[0;34m:\u001b[0m\u001b[0;34m\u001b[0m\u001b[0;34m\u001b[0m\u001b[0m\n\u001b[0;32m---> 52\u001b[0;31m                 \u001b[0mdata\u001b[0m \u001b[0;34m=\u001b[0m \u001b[0;34m[\u001b[0m\u001b[0mself\u001b[0m\u001b[0;34m.\u001b[0m\u001b[0mdataset\u001b[0m\u001b[0;34m[\u001b[0m\u001b[0midx\u001b[0m\u001b[0;34m]\u001b[0m \u001b[0;32mfor\u001b[0m \u001b[0midx\u001b[0m \u001b[0;32min\u001b[0m \u001b[0mpossibly_batched_index\u001b[0m\u001b[0;34m]\u001b[0m\u001b[0;34m\u001b[0m\u001b[0;34m\u001b[0m\u001b[0m\n\u001b[0m\u001b[1;32m     53\u001b[0m         \u001b[0;32melse\u001b[0m\u001b[0;34m:\u001b[0m\u001b[0;34m\u001b[0m\u001b[0;34m\u001b[0m\u001b[0m\n\u001b[1;32m     54\u001b[0m             \u001b[0mdata\u001b[0m \u001b[0;34m=\u001b[0m \u001b[0mself\u001b[0m\u001b[0;34m.\u001b[0m\u001b[0mdataset\u001b[0m\u001b[0;34m[\u001b[0m\u001b[0mpossibly_batched_index\u001b[0m\u001b[0;34m]\u001b[0m\u001b[0;34m\u001b[0m\u001b[0;34m\u001b[0m\u001b[0m\n",
            "\u001b[0;32m/usr/local/lib/python3.11/dist-packages/torchvision/datasets/cifar.py\u001b[0m in \u001b[0;36m__getitem__\u001b[0;34m(self, index)\u001b[0m\n\u001b[1;32m    114\u001b[0m         \u001b[0;31m# doing this so that it is consistent with all other datasets\u001b[0m\u001b[0;34m\u001b[0m\u001b[0;34m\u001b[0m\u001b[0m\n\u001b[1;32m    115\u001b[0m         \u001b[0;31m# to return a PIL Image\u001b[0m\u001b[0;34m\u001b[0m\u001b[0;34m\u001b[0m\u001b[0m\n\u001b[0;32m--> 116\u001b[0;31m         \u001b[0mimg\u001b[0m \u001b[0;34m=\u001b[0m \u001b[0mImage\u001b[0m\u001b[0;34m.\u001b[0m\u001b[0mfromarray\u001b[0m\u001b[0;34m(\u001b[0m\u001b[0mimg\u001b[0m\u001b[0;34m)\u001b[0m\u001b[0;34m\u001b[0m\u001b[0;34m\u001b[0m\u001b[0m\n\u001b[0m\u001b[1;32m    117\u001b[0m \u001b[0;34m\u001b[0m\u001b[0m\n\u001b[1;32m    118\u001b[0m         \u001b[0;32mif\u001b[0m \u001b[0mself\u001b[0m\u001b[0;34m.\u001b[0m\u001b[0mtransform\u001b[0m \u001b[0;32mis\u001b[0m \u001b[0;32mnot\u001b[0m \u001b[0;32mNone\u001b[0m\u001b[0;34m:\u001b[0m\u001b[0;34m\u001b[0m\u001b[0;34m\u001b[0m\u001b[0m\n",
            "\u001b[0;32m/usr/local/lib/python3.11/dist-packages/PIL/Image.py\u001b[0m in \u001b[0;36mfromarray\u001b[0;34m(obj, mode)\u001b[0m\n\u001b[1;32m   3329\u001b[0m     \u001b[0;32mif\u001b[0m \u001b[0mstrides\u001b[0m \u001b[0;32mis\u001b[0m \u001b[0;32mnot\u001b[0m \u001b[0;32mNone\u001b[0m\u001b[0;34m:\u001b[0m\u001b[0;34m\u001b[0m\u001b[0;34m\u001b[0m\u001b[0m\n\u001b[1;32m   3330\u001b[0m         \u001b[0;32mif\u001b[0m \u001b[0mhasattr\u001b[0m\u001b[0;34m(\u001b[0m\u001b[0mobj\u001b[0m\u001b[0;34m,\u001b[0m \u001b[0;34m\"tobytes\"\u001b[0m\u001b[0;34m)\u001b[0m\u001b[0;34m:\u001b[0m\u001b[0;34m\u001b[0m\u001b[0;34m\u001b[0m\u001b[0m\n\u001b[0;32m-> 3331\u001b[0;31m             \u001b[0mobj\u001b[0m \u001b[0;34m=\u001b[0m \u001b[0mobj\u001b[0m\u001b[0;34m.\u001b[0m\u001b[0mtobytes\u001b[0m\u001b[0;34m(\u001b[0m\u001b[0;34m)\u001b[0m\u001b[0;34m\u001b[0m\u001b[0;34m\u001b[0m\u001b[0m\n\u001b[0m\u001b[1;32m   3332\u001b[0m         \u001b[0;32melif\u001b[0m \u001b[0mhasattr\u001b[0m\u001b[0;34m(\u001b[0m\u001b[0mobj\u001b[0m\u001b[0;34m,\u001b[0m \u001b[0;34m\"tostring\"\u001b[0m\u001b[0;34m)\u001b[0m\u001b[0;34m:\u001b[0m\u001b[0;34m\u001b[0m\u001b[0;34m\u001b[0m\u001b[0m\n\u001b[1;32m   3333\u001b[0m             \u001b[0mobj\u001b[0m \u001b[0;34m=\u001b[0m \u001b[0mobj\u001b[0m\u001b[0;34m.\u001b[0m\u001b[0mtostring\u001b[0m\u001b[0;34m(\u001b[0m\u001b[0;34m)\u001b[0m\u001b[0;34m\u001b[0m\u001b[0;34m\u001b[0m\u001b[0m\n",
            "\u001b[0;31mKeyboardInterrupt\u001b[0m: "
          ]
        }
      ]
    }
  ]
}